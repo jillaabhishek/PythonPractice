{
  "nbformat": 4,
  "nbformat_minor": 0,
  "metadata": {
    "colab": {
      "provenance": [],
      "toc_visible": true,
      "authorship_tag": "ABX9TyNFYMZo7mzz8R8O0SppeIfs",
      "include_colab_link": true
    },
    "kernelspec": {
      "name": "python3",
      "display_name": "Python 3"
    },
    "language_info": {
      "name": "python"
    }
  },
  "cells": [
    {
      "cell_type": "markdown",
      "metadata": {
        "id": "view-in-github",
        "colab_type": "text"
      },
      "source": [
        "<a href=\"https://colab.research.google.com/github/jillaabhishek/PythonPractice/blob/main/Python_Exercise.ipynb\" target=\"_parent\"><img src=\"https://colab.research.google.com/assets/colab-badge.svg\" alt=\"Open In Colab\"/></a>"
      ]
    },
    {
      "cell_type": "markdown",
      "source": [
        "1. Finding Unique Elements in a string"
      ],
      "metadata": {
        "id": "g2-8ARH1KrGR"
      }
    },
    {
      "cell_type": "code",
      "execution_count": 4,
      "metadata": {
        "colab": {
          "base_uri": "https://localhost:8080/"
        },
        "id": "XRF8rhc1JvOg",
        "outputId": "2e0214dd-3f2a-469e-e3ff-e487a74001e7"
      },
      "outputs": [
        {
          "output_type": "stream",
          "name": "stdout",
          "text": [
            "{'c', 'o', 'd', 'g', 'i', 'l', 'n'}\n",
            "codgiln\n"
          ]
        }
      ],
      "source": [
        "my_string = \"clcoding\"\n",
        "temp_set = set(my_string)\n",
        "print(temp_set)\n",
        "new_string = ''.join(temp_set)\n",
        "print(new_string)"
      ]
    },
    {
      "cell_type": "markdown",
      "source": [
        "Using the Title Case (First Letter Caps)"
      ],
      "metadata": {
        "id": "P2AznZ29LBbT"
      }
    },
    {
      "cell_type": "code",
      "source": [
        "my_string = \"my name is Python Coding\"\n",
        "## using the title() function of string class\n",
        "new_string = my_string.title()\n",
        "print(new_string) #"
      ],
      "metadata": {
        "colab": {
          "base_uri": "https://localhost:8080/"
        },
        "id": "iGO06OpHLHD_",
        "outputId": "81ce1859-10c3-4a62-f424-e4208ea28f15"
      },
      "execution_count": 5,
      "outputs": [
        {
          "output_type": "stream",
          "name": "stdout",
          "text": [
            "My Name Is Python Coding\n"
          ]
        }
      ]
    },
    {
      "cell_type": "markdown",
      "source": [
        "Reversing a string"
      ],
      "metadata": {
        "id": "TC9UGjrBLrL9"
      }
    },
    {
      "cell_type": "code",
      "source": [
        "## Reversing a string using slicing\n",
        "my_string = \"CLCODING\"\n",
        "reversed_string = my_string[::-1]\n",
        "print(reversed_string) ##clcoding.com"
      ],
      "metadata": {
        "colab": {
          "base_uri": "https://localhost:8080/"
        },
        "id": "Jb82CLMHLusQ",
        "outputId": "8011ca75-a724-4f93-874b-39b997999623"
      },
      "execution_count": 11,
      "outputs": [
        {
          "output_type": "stream",
          "name": "stdout",
          "text": [
            "GNIDOCLC\n"
          ]
        }
      ]
    },
    {
      "cell_type": "markdown",
      "source": [
        "Printing a String or a List n Times"
      ],
      "metadata": {
        "id": "DlGyF__DMbC5"
      }
    },
    {
      "cell_type": "code",
      "source": [
        "n = 3 #number of repetitions\n",
        "my_string= \"CLCODING\"\n",
        "my_list = [1, 2, 3]\n",
        "print(my_string * n)\n",
        "print(my_list * n)"
      ],
      "metadata": {
        "colab": {
          "base_uri": "https://localhost:8080/"
        },
        "id": "aGA4SLGgMd-F",
        "outputId": "69ca5d61-e85a-48fe-faa8-c376c4a6f997"
      },
      "execution_count": 12,
      "outputs": [
        {
          "output_type": "stream",
          "name": "stdout",
          "text": [
            "CLCODINGCLCODINGCLCODING\n",
            "[1, 2, 3, 1, 2, 3, 1, 2, 3]\n"
          ]
        }
      ]
    },
    {
      "cell_type": "markdown",
      "source": [
        "Combining a List of Strings into a Single String"
      ],
      "metadata": {
        "id": "DOz3DM5eMuXt"
      }
    },
    {
      "cell_type": "code",
      "source": [
        "list_of_strings = [\"My\", \"name\", \"is\", \"Python\", \"Coding\"]\n",
        "print(' '.join(list_of_strings))"
      ],
      "metadata": {
        "colab": {
          "base_uri": "https://localhost:8080/"
        },
        "id": "dTo1AGpdM0Rc",
        "outputId": "dbaa4f88-2044-42f5-e821-c6b407be0f8f"
      },
      "execution_count": 14,
      "outputs": [
        {
          "output_type": "stream",
          "name": "stdout",
          "text": [
            "My name is Python Coding\n"
          ]
        }
      ]
    },
    {
      "cell_type": "markdown",
      "source": [
        "Swap Values Between Two Variables"
      ],
      "metadata": {
        "id": "Hx6IS30oNCpf"
      }
    },
    {
      "cell_type": "code",
      "source": [
        "a = 1\n",
        "b = 2\n",
        "a, b = b, a\n",
        "print(a)\n",
        "print(b)\n"
      ],
      "metadata": {
        "colab": {
          "base_uri": "https://localhost:8080/"
        },
        "id": "F_4GbEciNGHh",
        "outputId": "7d560efb-fb70-4e80-f2d9-eb5475fe7b5d"
      },
      "execution_count": 15,
      "outputs": [
        {
          "output_type": "stream",
          "name": "stdout",
          "text": [
            "2\n",
            "1\n"
          ]
        }
      ]
    },
    {
      "cell_type": "markdown",
      "source": [
        "split a String Into a List of Substrings"
      ],
      "metadata": {
        "id": "wxB6u7sUNO2O"
      }
    },
    {
      "cell_type": "code",
      "source": [
        "string_1 = \"My name is Python Coding\"\n",
        "string_2 = \"sample/ string 2\"\n",
        "\n",
        "## default separator ' '\n",
        "print(string_1.split())\n",
        "\n",
        "## defining separator as '/'\n",
        "print(string_2.split('/'))"
      ],
      "metadata": {
        "colab": {
          "base_uri": "https://localhost:8080/"
        },
        "id": "Qkq-mvV3NVRt",
        "outputId": "4fc48f8e-9cc5-4f76-e175-a8b065224c3d"
      },
      "execution_count": 17,
      "outputs": [
        {
          "output_type": "stream",
          "name": "stdout",
          "text": [
            "['My', 'name', 'is', 'Python', 'Coding']\n",
            "['sample', ' string 2']\n"
          ]
        }
      ]
    },
    {
      "cell_type": "markdown",
      "source": [
        "List Comprehension"
      ],
      "metadata": {
        "id": "fr9oT0ssNti0"
      }
    },
    {
      "cell_type": "code",
      "source": [
        "## Multiplying each element in a list by 2"
      ],
      "metadata": {
        "id": "wL9c7iPBNvi_"
      },
      "execution_count": null,
      "outputs": []
    },
    {
      "cell_type": "code",
      "source": [
        "original_list = [1, 2, 3, 4, 5]\n",
        "new_list = [2 * x for x in original_list]\n",
        "print(new_list) "
      ],
      "metadata": {
        "colab": {
          "base_uri": "https://localhost:8080/"
        },
        "id": "qzw3qYzRN0Vx",
        "outputId": "83eab1f6-45ac-4fd2-9370-0710093cf535"
      },
      "execution_count": 18,
      "outputs": [
        {
          "output_type": "stream",
          "name": "stdout",
          "text": [
            "[2, 4, 6, 8, 10]\n"
          ]
        }
      ]
    },
    {
      "cell_type": "markdown",
      "source": [
        "Check If a Given String Is a Palindrome or Not"
      ],
      "metadata": {
        "id": "kUEmBxPDODqO"
      }
    },
    {
      "cell_type": "code",
      "source": [
        "my_string = \"abcba\"\n",
        "if my_string == my_string[::-1]:\n",
        "  print('Palindrome')\n",
        "else:\n",
        "  print('Not Palindrome')"
      ],
      "metadata": {
        "colab": {
          "base_uri": "https://localhost:8080/"
        },
        "id": "R2vTYfsxOIXs",
        "outputId": "5c78a5b3-166a-4dc0-88d3-2fe297dc3ac2"
      },
      "execution_count": 20,
      "outputs": [
        {
          "output_type": "stream",
          "name": "stdout",
          "text": [
            "Not Palindrome\n"
          ]
        }
      ]
    },
    {
      "cell_type": "markdown",
      "source": [
        "Using Enumerator to Get Index/Value Pairs"
      ],
      "metadata": {
        "id": "xkZcTsGzOaqZ"
      }
    },
    {
      "cell_type": "code",
      "source": [
        "my_list = ['a', 'b', 'c', 'd', 'e']\n",
        "for index, value in enumerate(my_list):\n",
        "  print('{0}: {1}'.format(index, value))\n"
      ],
      "metadata": {
        "colab": {
          "base_uri": "https://localhost:8080/"
        },
        "id": "EzW-5bWcOex-",
        "outputId": "a24b1490-84a2-4172-a4dc-55ee0586ca2a"
      },
      "execution_count": 21,
      "outputs": [
        {
          "output_type": "stream",
          "name": "stdout",
          "text": [
            "0: a\n",
            "1: b\n",
            "2: c\n",
            "3: d\n",
            "4: e\n"
          ]
        }
      ]
    },
    {
      "cell_type": "markdown",
      "source": [
        "Find Whether Two Strings are Anagrams"
      ],
      "metadata": {
        "id": "3yVPvJ7AO4oz"
      }
    },
    {
      "cell_type": "code",
      "source": [
        "from collections import Counter\n",
        "str_1, str_2, str_3 = \"acbde\", \"abced\", \"abcda\"\n",
        "cnt_1, cnt_2, cnt_3 = Counter(str_1), Counter(str_2), Counter(str_3)\n",
        "\n",
        "if cnt_1 == cnt_2:\n",
        "  print('1 and 2 Anagram')\n",
        "else:\n",
        "  print('1 and 3 anagram')"
      ],
      "metadata": {
        "colab": {
          "base_uri": "https://localhost:8080/"
        },
        "id": "W-2SRth3O8Ud",
        "outputId": "fb777963-c962-49aa-ebf1-f67a39b9d7ac"
      },
      "execution_count": 22,
      "outputs": [
        {
          "output_type": "stream",
          "name": "stdout",
          "text": [
            "1 and 2 Anagram\n"
          ]
        }
      ]
    },
    {
      "cell_type": "markdown",
      "source": [
        "Using the try-except-else Block"
      ],
      "metadata": {
        "id": "1rt39r_pPr5S"
      }
    },
    {
      "cell_type": "code",
      "source": [
        "a, b = 1, 5\n",
        "\n",
        "try:\n",
        "  print(a/b)\n",
        "  # exception raised when b is 0\n",
        "except ZeroDivisionError:\n",
        "  print('division by zero')\n",
        "else:\n",
        "  print('no exceptions raised')\n",
        "finally:\n",
        "  print('Run this always')"
      ],
      "metadata": {
        "colab": {
          "base_uri": "https://localhost:8080/"
        },
        "id": "8zJFTAQ2PwFN",
        "outputId": "804afc6b-a507-4be1-814f-c987452eda1b"
      },
      "execution_count": 24,
      "outputs": [
        {
          "output_type": "stream",
          "name": "stdout",
          "text": [
            "0.2\n",
            "no exceptions raised\n",
            "Run this always\n"
          ]
        }
      ]
    },
    {
      "cell_type": "markdown",
      "source": [
        "Frequency of Elements in a List"
      ],
      "metadata": {
        "id": "HO0q7AwJQaTR"
      }
    },
    {
      "cell_type": "code",
      "source": [
        "from collections import Counter\n",
        "my_list = ['a', 'a', 'b', 'b','b', 'c', 'd','d','d','d', 'd']\n",
        "count = Counter(my_list) \n",
        "print(count)\n",
        "print(count['b'])\n",
        "print(count.most_common(2))"
      ],
      "metadata": {
        "colab": {
          "base_uri": "https://localhost:8080/"
        },
        "id": "vS7qvjjdQg3z",
        "outputId": "f983f118-88e5-46df-d4ac-c49e2ad22ecd"
      },
      "execution_count": 26,
      "outputs": [
        {
          "output_type": "stream",
          "name": "stdout",
          "text": [
            "Counter({'d': 5, 'b': 3, 'a': 2, 'c': 1})\n",
            "3\n",
            "[('d', 5), ('b', 3)]\n"
          ]
        }
      ]
    },
    {
      "cell_type": "markdown",
      "source": [
        "Check the Memory Usage of an Object"
      ],
      "metadata": {
        "id": "DFYQgyleQ8IC"
      }
    },
    {
      "cell_type": "code",
      "source": [
        "import sys\n",
        "num =21\n",
        "print(sys.getsizeof(num))"
      ],
      "metadata": {
        "colab": {
          "base_uri": "https://localhost:8080/"
        },
        "id": "boBC3l_fQ-88",
        "outputId": "34a73665-3aea-4ff8-f50b-eeffa741f8a5"
      },
      "execution_count": 28,
      "outputs": [
        {
          "output_type": "stream",
          "name": "stdout",
          "text": [
            "28\n"
          ]
        }
      ]
    },
    {
      "cell_type": "markdown",
      "source": [
        "Sampling From a List"
      ],
      "metadata": {
        "id": "rs0DzmQmRIQF"
      }
    },
    {
      "cell_type": "code",
      "source": [
        "import random\n",
        "my_lit = ['a', 'b', 'c', 'd', 'e']\n",
        "num_samples = 2\n",
        "samples = random.sample(my_list, num_samples)\n",
        "print(samples)"
      ],
      "metadata": {
        "colab": {
          "base_uri": "https://localhost:8080/"
        },
        "id": "jloces27RKmH",
        "outputId": "8f32f13d-ae73-4b2d-e43e-fc6a3035d5cf"
      },
      "execution_count": 31,
      "outputs": [
        {
          "output_type": "stream",
          "name": "stdout",
          "text": [
            "['b', 'd']\n"
          ]
        }
      ]
    }
  ]
}